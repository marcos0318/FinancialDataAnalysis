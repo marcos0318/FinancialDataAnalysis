{
 "cells": [
  {
   "cell_type": "code",
   "execution_count": null,
   "metadata": {},
   "outputs": [],
   "source": [
    " install.packages(\"Rsafd\")"
   ]
  },
  {
   "cell_type": "code",
   "execution_count": 1,
   "metadata": {},
   "outputs": [
    {
     "name": "stderr",
     "output_type": "stream",
     "text": [
      "Loading required package: timeDate\n",
      "Loading required package: mvtnorm\n",
      "Loading required package: quadprog\n",
      "Loading required package: quantreg\n",
      "Loading required package: SparseM\n",
      "\n",
      "Attaching package: 'SparseM'\n",
      "\n",
      "The following object is masked from 'package:base':\n",
      "\n",
      "    backsolve\n",
      "\n",
      "Loading required package: rgl\n",
      "Warning message:\n",
      "\"package 'rgl' was built under R version 3.4.4\"Loading required package: robustbase\n",
      "Loading required package: scatterplot3d\n",
      "Loading required package: splines\n",
      "Loading required package: tseries\n",
      "\n",
      "Attaching package: 'Rsafd'\n",
      "\n",
      "The following object is masked from 'package:tseries':\n",
      "\n",
      "    garch\n",
      "\n",
      "The following objects are masked from 'package:mvtnorm':\n",
      "\n",
      "    dmvnorm, rmvnorm\n",
      "\n",
      "The following object is masked from 'package:stats':\n",
      "\n",
      "    qqnorm\n",
      "\n",
      "The following object is masked from 'package:datasets':\n",
      "\n",
      "    CO2\n",
      "\n"
     ]
    }
   ],
   "source": [
    "library(Rsafd)"
   ]
  },
  {
   "cell_type": "code",
   "execution_count": null,
   "metadata": {},
   "outputs": [],
   "source": [
    "# install.packages(\"quadprog\", repos=\"http://cran.us.r-project.org\")\n",
    "# install.packages('rgl',  repos=\"http://cran.us.r-project.org\")"
   ]
  },
  {
   "cell_type": "code",
   "execution_count": null,
   "metadata": {
    "scrolled": true
   },
   "outputs": [],
   "source": [
    "install.packages('mvtnorm')\n",
    "\n",
    "install.packages('quadprog')\n",
    "\n",
    "install.packages('quantreg')\n",
    "install.packages('SparseM')\n",
    "\n",
    "install.packages('rgl')\n",
    "\n",
    "install.packages('robustbase')\n",
    "\n",
    "install.packages('tseries')\n",
    "\n",
    "install.packages('zoo')\n",
    "\n",
    "install.packages('gdata')\n",
    "\n",
    "install.packages('gtools')\n",
    "\n",
    "install.packages('gmodels')\n",
    "\n",
    "install.packages('gplots')\n",
    "\n",
    "install.packages('caTools')\n",
    "\n",
    "install.packages('bitops')\n",
    "\n",
    "install.packages(\"fBasics\")\n",
    "\n",
    "install.packages(\"fGarch\")\n",
    "\n",
    "install.packages(\"timeDate\")\n",
    "\n",
    "install.packages(\"timeSeries\")\n",
    "\n",
    " "
   ]
  },
  {
   "cell_type": "code",
   "execution_count": 8,
   "metadata": {},
   "outputs": [
    {
     "name": "stderr",
     "output_type": "stream",
     "text": [
      "Warning message:\n",
      "\"package 'gdata' was built under R version 3.4.4\"gdata: Unable to locate valid perl interpreter\n",
      "gdata: \n",
      "gdata: read.xls() will be unable to read Excel XLS and XLSX files\n",
      "gdata: unless the 'perl=' argument is used to specify the location of a\n",
      "gdata: valid perl intrpreter.\n",
      "gdata: \n",
      "gdata: (To avoid display of this message in the future, please ensure\n",
      "gdata: perl is installed and available on the executable search path.)\n",
      "gdata: Unable to load perl libaries needed by read.xls()\n",
      "gdata: to support 'XLX' (Excel 97-2004) files.\n",
      "\n",
      "gdata: Unable to load perl libaries needed by read.xls()\n",
      "gdata: to support 'XLSX' (Excel 2007+) files.\n",
      "\n",
      "gdata: Run the function 'installXLSXsupport()'\n",
      "gdata: to automatically download and install the perl\n",
      "gdata: libaries needed to support Excel XLS and XLSX formats.\n",
      "\n",
      "Attaching package: 'gdata'\n",
      "\n",
      "The following object is masked from 'package:stats':\n",
      "\n",
      "    nobs\n",
      "\n",
      "The following object is masked from 'package:utils':\n",
      "\n",
      "    object.size\n",
      "\n",
      "The following object is masked from 'package:base':\n",
      "\n",
      "    startsWith\n",
      "\n",
      "Warning message:\n",
      "\"package 'gmodels' was built under R version 3.4.4\"Warning message:\n",
      "\"package 'gplots' was built under R version 3.4.4\"\n",
      "Attaching package: 'gplots'\n",
      "\n",
      "The following object is masked from 'package:stats':\n",
      "\n",
      "    lowess\n",
      "\n",
      "Warning message:\n",
      "\"package 'gtools' was built under R version 3.4.4\""
     ]
    }
   ],
   "source": [
    " library(gdata)\n",
    "library(gmodels)\n",
    "library(gplots)\n",
    "library(gtools)"
   ]
  },
  {
   "cell_type": "code",
   "execution_count": 7,
   "metadata": {},
   "outputs": [
    {
     "name": "stdout",
     "output_type": "stream",
     "text": [
      "package 'gtools' successfully unpacked and MD5 sums checked\n",
      "\n",
      "The downloaded binary packages are in\n",
      "\tC:\\Users\\bj\\AppData\\Local\\Temp\\RtmpAlUlLV\\downloaded_packages\n"
     ]
    }
   ],
   "source": [
    "install.packages('gtools', repos=\"http://cran.us.r-project.org\")"
   ]
  },
  {
   "cell_type": "code",
   "execution_count": null,
   "metadata": {},
   "outputs": [],
   "source": []
  }
 ],
 "metadata": {
  "kernelspec": {
   "display_name": "R",
   "language": "R",
   "name": "ir"
  },
  "language_info": {
   "codemirror_mode": "r",
   "file_extension": ".r",
   "mimetype": "text/x-r-source",
   "name": "R",
   "pygments_lexer": "r",
   "version": "3.4.3"
  }
 },
 "nbformat": 4,
 "nbformat_minor": 2
}
