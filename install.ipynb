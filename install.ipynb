{
 "cells": [
  {
   "cell_type": "code",
   "execution_count": 2,
   "metadata": {},
   "outputs": [
    {
     "name": "stdout",
     "output_type": "stream",
     "text": [
      "package 'Rsafd' successfully unpacked and MD5 sums checked\n",
      "\n",
      "The downloaded binary packages are in\n",
      "\tC:\\Users\\BaiJiaxin\\AppData\\Local\\Temp\\RtmpYZJaVi\\downloaded_packages\n"
     ]
    }
   ],
   "source": [
    "install.packages(\"Rsafd\", repos=\"http://R-Forge.R-project.org\")"
   ]
  },
  {
   "cell_type": "code",
   "execution_count": 1,
   "metadata": {},
   "outputs": [
    {
     "name": "stderr",
     "output_type": "stream",
     "text": [
      "Loading required package: timeDate\n",
      "Warning message:\n",
      "\"package 'timeDate' was built under R version 3.4.4\"Loading required package: mvtnorm\n",
      "Warning message:\n",
      "\"package 'mvtnorm' was built under R version 3.4.4\"Loading required package: quadprog\n",
      "Loading required package: quantreg\n",
      "Warning message:\n",
      "\"package 'quantreg' was built under R version 3.4.4\"Loading required package: SparseM\n",
      "\n",
      "Attaching package: 'SparseM'\n",
      "\n",
      "The following object is masked from 'package:base':\n",
      "\n",
      "    backsolve\n",
      "\n",
      "Loading required package: rgl\n",
      "Warning message:\n",
      "\"package 'rgl' was built under R version 3.4.4\"Loading required package: robustbase\n",
      "Warning message:\n",
      "\"package 'robustbase' was built under R version 3.4.4\"Loading required package: scatterplot3d\n",
      "Loading required package: splines\n",
      "Loading required package: tseries\n",
      "Warning message:\n",
      "\"package 'tseries' was built under R version 3.4.4\"\n",
      "Attaching package: 'Rsafd'\n",
      "\n",
      "The following object is masked from 'package:tseries':\n",
      "\n",
      "    garch\n",
      "\n",
      "The following objects are masked from 'package:mvtnorm':\n",
      "\n",
      "    dmvnorm, rmvnorm\n",
      "\n",
      "The following object is masked from 'package:stats':\n",
      "\n",
      "    qqnorm\n",
      "\n",
      "The following object is masked from 'package:datasets':\n",
      "\n",
      "    CO2\n",
      "\n"
     ]
    }
   ],
   "source": [
    "help(Rsafd)\n",
    "library(Rsafd)"
   ]
  },
  {
   "cell_type": "code",
   "execution_count": null,
   "metadata": {},
   "outputs": [],
   "source": [
    "# install.packages(\"quadprog\", repos=\"http://cran.us.r-project.org\")\n",
    "# install.packages('rgl',  repos=\"http://cran.us.r-project.org\")"
   ]
  },
  {
   "cell_type": "code",
   "execution_count": null,
   "metadata": {
    "scrolled": true
   },
   "outputs": [
    {
     "name": "stdout",
     "output_type": "stream",
     "text": [
      "package 'mvtnorm' successfully unpacked and MD5 sums checked\n",
      "\n",
      "The downloaded binary packages are in\n",
      "\tC:\\Users\\BaiJiaxin\\AppData\\Local\\Temp\\RtmpIHHUpM\\downloaded_packages\n",
      "package 'quadprog' successfully unpacked and MD5 sums checked\n",
      "\n",
      "The downloaded binary packages are in\n",
      "\tC:\\Users\\BaiJiaxin\\AppData\\Local\\Temp\\RtmpIHHUpM\\downloaded_packages\n"
     ]
    },
    {
     "name": "stderr",
     "output_type": "stream",
     "text": [
      "also installing the dependency 'MatrixModels'\n",
      "\n"
     ]
    },
    {
     "name": "stdout",
     "output_type": "stream",
     "text": [
      "package 'MatrixModels' successfully unpacked and MD5 sums checked\n",
      "package 'quantreg' successfully unpacked and MD5 sums checked\n",
      "\n",
      "The downloaded binary packages are in\n",
      "\tC:\\Users\\BaiJiaxin\\AppData\\Local\\Temp\\RtmpIHHUpM\\downloaded_packages\n",
      "package 'SparseM' successfully unpacked and MD5 sums checked\n",
      "\n",
      "The downloaded binary packages are in\n",
      "\tC:\\Users\\BaiJiaxin\\AppData\\Local\\Temp\\RtmpIHHUpM\\downloaded_packages\n"
     ]
    },
    {
     "name": "stderr",
     "output_type": "stream",
     "text": [
      "also installing the dependencies 'ps', 'processx', 'miniUI', 'webshot', 'crosstalk', 'manipulateWidget'\n",
      "\n"
     ]
    },
    {
     "name": "stdout",
     "output_type": "stream",
     "text": [
      "package 'ps' successfully unpacked and MD5 sums checked\n",
      "package 'processx' successfully unpacked and MD5 sums checked\n",
      "package 'miniUI' successfully unpacked and MD5 sums checked\n",
      "package 'webshot' successfully unpacked and MD5 sums checked\n",
      "package 'crosstalk' successfully unpacked and MD5 sums checked\n",
      "package 'manipulateWidget' successfully unpacked and MD5 sums checked\n",
      "package 'rgl' successfully unpacked and MD5 sums checked\n",
      "\n",
      "The downloaded binary packages are in\n",
      "\tC:\\Users\\BaiJiaxin\\AppData\\Local\\Temp\\RtmpIHHUpM\\downloaded_packages\n",
      "package 'robustbase' successfully unpacked and MD5 sums checked\n",
      "\n",
      "The downloaded binary packages are in\n",
      "\tC:\\Users\\BaiJiaxin\\AppData\\Local\\Temp\\RtmpIHHUpM\\downloaded_packages\n",
      "package 'tseries' successfully unpacked and MD5 sums checked\n",
      "\n",
      "The downloaded binary packages are in\n",
      "\tC:\\Users\\BaiJiaxin\\AppData\\Local\\Temp\\RtmpIHHUpM\\downloaded_packages\n",
      "package 'zoo' successfully unpacked and MD5 sums checked\n",
      "\n",
      "The downloaded binary packages are in\n",
      "\tC:\\Users\\BaiJiaxin\\AppData\\Local\\Temp\\RtmpIHHUpM\\downloaded_packages\n",
      "package 'gdata' successfully unpacked and MD5 sums checked\n",
      "\n",
      "The downloaded binary packages are in\n",
      "\tC:\\Users\\BaiJiaxin\\AppData\\Local\\Temp\\RtmpIHHUpM\\downloaded_packages\n",
      "package 'gtools' successfully unpacked and MD5 sums checked\n",
      "\n",
      "The downloaded binary packages are in\n",
      "\tC:\\Users\\BaiJiaxin\\AppData\\Local\\Temp\\RtmpIHHUpM\\downloaded_packages\n",
      "package 'gmodels' successfully unpacked and MD5 sums checked\n",
      "\n",
      "The downloaded binary packages are in\n",
      "\tC:\\Users\\BaiJiaxin\\AppData\\Local\\Temp\\RtmpIHHUpM\\downloaded_packages\n",
      "package 'gplots' successfully unpacked and MD5 sums checked\n",
      "\n",
      "The downloaded binary packages are in\n",
      "\tC:\\Users\\BaiJiaxin\\AppData\\Local\\Temp\\RtmpIHHUpM\\downloaded_packages\n",
      "package 'caTools' successfully unpacked and MD5 sums checked\n",
      "\n",
      "The downloaded binary packages are in\n",
      "\tC:\\Users\\BaiJiaxin\\AppData\\Local\\Temp\\RtmpIHHUpM\\downloaded_packages\n",
      "package 'bitops' successfully unpacked and MD5 sums checked\n",
      "\n",
      "The downloaded binary packages are in\n",
      "\tC:\\Users\\BaiJiaxin\\AppData\\Local\\Temp\\RtmpIHHUpM\\downloaded_packages\n"
     ]
    },
    {
     "name": "stderr",
     "output_type": "stream",
     "text": [
      "also installing the dependencies 'timeSeries', 'gss', 'stabledist'\n",
      "\n"
     ]
    },
    {
     "name": "stdout",
     "output_type": "stream",
     "text": [
      "package 'timeSeries' successfully unpacked and MD5 sums checked\n",
      "package 'gss' successfully unpacked and MD5 sums checked\n",
      "package 'stabledist' successfully unpacked and MD5 sums checked\n",
      "package 'fBasics' successfully unpacked and MD5 sums checked\n",
      "\n",
      "The downloaded binary packages are in\n",
      "\tC:\\Users\\BaiJiaxin\\AppData\\Local\\Temp\\RtmpIHHUpM\\downloaded_packages\n"
     ]
    },
    {
     "name": "stderr",
     "output_type": "stream",
     "text": [
      "also installing the dependency 'fastICA'\n",
      "\n"
     ]
    },
    {
     "name": "stdout",
     "output_type": "stream",
     "text": [
      "package 'fastICA' successfully unpacked and MD5 sums checked\n",
      "package 'fGarch' successfully unpacked and MD5 sums checked\n",
      "\n",
      "The downloaded binary packages are in\n",
      "\tC:\\Users\\BaiJiaxin\\AppData\\Local\\Temp\\RtmpIHHUpM\\downloaded_packages\n",
      "package 'timeDate' successfully unpacked and MD5 sums checked\n",
      "\n",
      "The downloaded binary packages are in\n",
      "\tC:\\Users\\BaiJiaxin\\AppData\\Local\\Temp\\RtmpIHHUpM\\downloaded_packages\n"
     ]
    }
   ],
   "source": [
    "install.packages('mvtnorm', repos=\"http://cran.us.r-project.org\")\n",
    "\n",
    "install.packages('quadprog' , repos=\"http://cran.us.r-project.org\")\n",
    "\n",
    "install.packages('quantreg', repos=\"http://cran.us.r-project.org\")\n",
    "install.packages('SparseM', repos=\"http://cran.us.r-project.org\")\n",
    "\n",
    "install.packages('rgl', repos=\"http://cran.us.r-project.org\")\n",
    "\n",
    "install.packages('robustbase', repos=\"http://cran.us.r-project.org\")\n",
    "\n",
    "install.packages('tseries', repos=\"http://cran.us.r-project.org\")\n",
    "\n",
    "install.packages('zoo', repos=\"http://cran.us.r-project.org\")\n",
    "\n",
    "install.packages('gdata', repos=\"http://cran.us.r-project.org\")\n",
    "\n",
    "install.packages('gtools', repos=\"http://cran.us.r-project.org\")\n",
    "\n",
    "install.packages('gmodels', repos=\"http://cran.us.r-project.org\")\n",
    "\n",
    "install.packages('gplots', repos=\"http://cran.us.r-project.org\")\n",
    "\n",
    "install.packages('caTools', repos=\"http://cran.us.r-project.org\")\n",
    "\n",
    "install.packages('bitops', repos=\"http://cran.us.r-project.org\")\n",
    "\n",
    "install.packages(\"fBasics\", repos=\"http://cran.us.r-project.org\")\n",
    "\n",
    "install.packages(\"fGarch\", repos=\"http://cran.us.r-project.org\")\n",
    "\n",
    "install.packages(\"timeDate\", repos=\"http://cran.us.r-project.org\")\n",
    "\n",
    "install.packages(\"timeSeries\", repos=\"http://cran.us.r-project.org\")\n",
    "\n",
    " "
   ]
  },
  {
   "cell_type": "code",
   "execution_count": 8,
   "metadata": {},
   "outputs": [
    {
     "name": "stderr",
     "output_type": "stream",
     "text": [
      "Warning message:\n",
      "\"package 'gdata' was built under R version 3.4.4\"gdata: Unable to locate valid perl interpreter\n",
      "gdata: \n",
      "gdata: read.xls() will be unable to read Excel XLS and XLSX files\n",
      "gdata: unless the 'perl=' argument is used to specify the location of a\n",
      "gdata: valid perl intrpreter.\n",
      "gdata: \n",
      "gdata: (To avoid display of this message in the future, please ensure\n",
      "gdata: perl is installed and available on the executable search path.)\n",
      "gdata: Unable to load perl libaries needed by read.xls()\n",
      "gdata: to support 'XLX' (Excel 97-2004) files.\n",
      "\n",
      "gdata: Unable to load perl libaries needed by read.xls()\n",
      "gdata: to support 'XLSX' (Excel 2007+) files.\n",
      "\n",
      "gdata: Run the function 'installXLSXsupport()'\n",
      "gdata: to automatically download and install the perl\n",
      "gdata: libaries needed to support Excel XLS and XLSX formats.\n",
      "\n",
      "Attaching package: 'gdata'\n",
      "\n",
      "The following object is masked from 'package:stats':\n",
      "\n",
      "    nobs\n",
      "\n",
      "The following object is masked from 'package:utils':\n",
      "\n",
      "    object.size\n",
      "\n",
      "The following object is masked from 'package:base':\n",
      "\n",
      "    startsWith\n",
      "\n",
      "Warning message:\n",
      "\"package 'gmodels' was built under R version 3.4.4\"Warning message:\n",
      "\"package 'gplots' was built under R version 3.4.4\"\n",
      "Attaching package: 'gplots'\n",
      "\n",
      "The following object is masked from 'package:stats':\n",
      "\n",
      "    lowess\n",
      "\n",
      "Warning message:\n",
      "\"package 'gtools' was built under R version 3.4.4\""
     ]
    }
   ],
   "source": [
    "library(gdata)\n",
    "library(gmodels)\n",
    "library(gplots)\n",
    "library(gtools)\n",
    "library(Rsafd)"
   ]
  },
  {
   "cell_type": "code",
   "execution_count": 7,
   "metadata": {},
   "outputs": [
    {
     "name": "stdout",
     "output_type": "stream",
     "text": [
      "package 'gtools' successfully unpacked and MD5 sums checked\n",
      "\n",
      "The downloaded binary packages are in\n",
      "\tC:\\Users\\bj\\AppData\\Local\\Temp\\RtmpAlUlLV\\downloaded_packages\n"
     ]
    }
   ],
   "source": []
  },
  {
   "cell_type": "code",
   "execution_count": null,
   "metadata": {},
   "outputs": [],
   "source": []
  }
 ],
 "metadata": {
  "kernelspec": {
   "display_name": "R",
   "language": "R",
   "name": "ir"
  },
  "language_info": {
   "codemirror_mode": "r",
   "file_extension": ".r",
   "mimetype": "text/x-r-source",
   "name": "R",
   "pygments_lexer": "r",
   "version": "3.4.3"
  }
 },
 "nbformat": 4,
 "nbformat_minor": 2
}
